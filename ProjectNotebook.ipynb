{
 "cells": [
  {
   "cell_type": "markdown",
   "metadata": {},
   "source": [
    "# Project Description"
   ]
  },
  {
   "cell_type": "markdown",
   "metadata": {},
   "source": [
    "One thing I'm really interested in is music and music theory. I thought it would be a cool idea to create a class with objects and methods that make it easy to know what notes exist in the scale you're in. For people who don't have a music background, basically different scales in music start on different notes. If you have the same 'quality' for a scale, like major for example, the 'sequence' of steps you go through is the same. In a major key, for example, the sequence of steps looks like whole whole half, whole whole whole half. Essentially, if you're in a major key, the order and quality of the steps will always be the same, but because you can start a scale on different notes, that means different notes will be \"available\" to you to use. I wanted to write code that takes in the starting note and returns what notes are available to youbased on that. If I end up having time, I'm going to program different scales as well, so that you can show the different notes for the C major scale, the C minor scale, and so on. If I have time, I might even program in other modes (myxolidan, locrian, etc.) There are certain limitations to this code, as it's hard to program in certain conventions that exists in music (sometimes notes, depending on the key they're in, are written with flats instead of sharps, and this code writes only in sharps). However, even though the naming conventions aren't quite right, the notes the code returns are still technically correct, as C# is, for all intents and purposes, the same note as Dflat. If this code were to be extrapolated, one could probably match the notes to their actual pitch in hz and get a computer to play them (there might be a python library out there somewhere that takes notes as inputs and plays them), but for now it's just a reference tool. I actualy ended up programming in a lot of fun functionalities that \"search\" through a key for chords or \"search\" through different keys in order to find groups of notes."
   ]
  },
  {
   "cell_type": "markdown",
   "metadata": {},
   "source": [
    "## Project Code\n",
    "\n",
    "If it makes sense for your project, you can have code and outputs here in the notebook as well."
   ]
  },
  {
   "cell_type": "code",
   "execution_count": 1,
   "metadata": {},
   "outputs": [],
   "source": [
    "from module.music import MusicScale\n",
    "from module.music import notes_in"
   ]
  },
  {
   "cell_type": "code",
   "execution_count": 5,
   "metadata": {},
   "outputs": [],
   "source": [
    "#each MusicScale object can be thought of as a key.\n",
    "#to create the object, specify the first note of the key you'd like to create\n",
    "c_key = MusicScale('C')\n",
    "g_key = MusicScale('G')"
   ]
  },
  {
   "cell_type": "code",
   "execution_count": 6,
   "metadata": {},
   "outputs": [
    {
     "data": {
      "text/plain": [
       "['G', 'A', 'B', 'C', 'D', 'E', 'F#', 'G']"
      ]
     },
     "execution_count": 6,
     "metadata": {},
     "output_type": "execute_result"
    }
   ],
   "source": [
    "#let's say you forgot which notes are in G. well there's a method for that!\n",
    "g_key.find_scale()"
   ]
  },
  {
   "cell_type": "code",
   "execution_count": 8,
   "metadata": {},
   "outputs": [
    {
     "data": {
      "text/plain": [
       "['B', 'D', 'F#']"
      ]
     },
     "execution_count": 8,
     "metadata": {},
     "output_type": "execute_result"
    }
   ],
   "source": [
    "#next, lets say you wanted to find the chord that started on B within the key of G.\n",
    "g_key.find_chord('B')\n",
    "#alternatively, lets say you wanted to find this same chord, but wanted to reference\n",
    "#it by it's position in the scale rather than it's starting note - this is\n",
    "#common for classical music notation. \n"
   ]
  },
  {
   "cell_type": "code",
   "execution_count": 9,
   "metadata": {},
   "outputs": [
    {
     "data": {
      "text/plain": [
       "['B', 'D', 'F#']"
      ]
     },
     "execution_count": 9,
     "metadata": {},
     "output_type": "execute_result"
    }
   ],
   "source": [
    "g_key.find_chord(3)"
   ]
  },
  {
   "cell_type": "code",
   "execution_count": 10,
   "metadata": {},
   "outputs": [
    {
     "data": {
      "text/plain": [
       "{1: ['G', 'B', 'D'], 4: ['C', 'E', 'G'], 5: ['D', 'F#', 'A']}"
      ]
     },
     "execution_count": 10,
     "metadata": {},
     "output_type": "execute_result"
    }
   ],
   "source": [
    "# let's say I know that a song has a '1, 4, 5' progression\n",
    "# meaning it starts on the first chord, then the fourth, then the fifth\n",
    "# shoot, I know how to play it in C, but I forgot how to play it in G.\n",
    "# theres a function for that!\n",
    "g_key.chord_progression([1,4,5])"
   ]
  },
  {
   "cell_type": "code",
   "execution_count": null,
   "metadata": {},
   "outputs": [],
   "source": [
    "# next, lets say I know I'm in the key of D, and I hear \n",
    "# a G and a B in a chord. Which chord could that be?"
   ]
  },
  {
   "cell_type": "code",
   "execution_count": 12,
   "metadata": {},
   "outputs": [
    {
     "data": {
      "text/plain": [
       "{2: ['E', 'G', 'B'], 4: ['G', 'B', 'D']}"
      ]
     },
     "execution_count": 12,
     "metadata": {},
     "output_type": "execute_result"
    }
   ],
   "source": [
    "d_key = MusicScale('D')\n",
    "d_key.identify_chord_possibilities(['G','B'])"
   ]
  },
  {
   "cell_type": "code",
   "execution_count": 13,
   "metadata": {},
   "outputs": [
    {
     "data": {
      "text/plain": [
       "[['D', 'E', 'F#', 'G', 'A', 'B', 'C#', 'D'],\n",
       " ['E', 'F#', 'G#', 'A', 'B', 'C#', 'D#', 'E'],\n",
       " ['A', 'B', 'C#', 'D', 'E', 'F#', 'G#', 'A']]"
      ]
     },
     "execution_count": 13,
     "metadata": {},
     "output_type": "execute_result"
    }
   ],
   "source": [
    "# so i could either be hearing the 2 or the 4 chord\n",
    "# next, lets say I'm listening to a song, and I can identify\n",
    "# the notes that are in it. I want to know the key the song is in. \n",
    "# it can be hard to figure this out on your own, even if you know music theory.\n",
    "\n",
    "#for example, I hear these notes at the begenning of video games by lana del rey.\n",
    "# a c# e f#\n",
    "#what key could this be?\n",
    "\n",
    "notes_in(['A', 'C#', 'E', 'F#'])"
   ]
  },
  {
   "cell_type": "code",
   "execution_count": null,
   "metadata": {},
   "outputs": [],
   "source": [
    "# now I know that it could be one of these three keys. If I knew\n",
    "# more notes, I could narrow it down to one. \n",
    "# this function works by looking at all of the MusicClass key possibilities\n",
    "# and narrowing it down\n",
    "\n",
    "# note that these only work on major keys, so for minor keys you're\n",
    "# looking at it's relative major\n",
    "\n",
    "# also, the notes are always written as sharps instead of flats, so \n",
    "# this might bother classically trained music people, but I still think it\n",
    "# offers useful functionality "
   ]
  },
  {
   "cell_type": "code",
   "execution_count": 3,
   "metadata": {},
   "outputs": [
    {
     "name": "stdout",
     "output_type": "stream",
     "text": [
      "\u001b[1m============================= test session starts ==============================\u001b[0m\r\n",
      "platform linux -- Python 3.9.5, pytest-7.2.2, pluggy-1.0.0\r\n",
      "rootdir: /home/eglesne/Final_Project_COGS18_SP23\r\n",
      "plugins: anyio-3.2.1\r\n",
      "\u001b[1mcollecting ... \u001b[0m\u001b[1m\r",
      "collected 3 items                                                              \u001b[0m\r\n",
      "\r\n",
      "module/test_functions.py \u001b[32m.\u001b[0m\u001b[32m.\u001b[0m\u001b[32m.\u001b[0m\u001b[32m                                             [100%]\u001b[0m\r\n",
      "\r\n",
      "\u001b[32m============================== \u001b[32m\u001b[1m3 passed\u001b[0m\u001b[32m in 0.02s\u001b[0m\u001b[32m ===============================\u001b[0m\r\n"
     ]
    }
   ],
   "source": [
    "!pytest"
   ]
  },
  {
   "cell_type": "markdown",
   "metadata": {},
   "source": [
    "#### Extra Credit (*optional*)\n",
    "\n",
    "Replace all of this text with a brief explanation (~3 sentences) of: \n",
    "1. I took a pre-ap class in freshman year of high school that started with java, but for some reason the AP curriculum changed halfway through the year and so it went back to being an HTML/ CSS class. There was a breif (maybe week or two) long intro to python, so I had a tiny bit of experience but this class felt like starting from square one in a lot of ways.\n",
    "\n",
    "2. I'm actually really proud of myself for what I did on this assignment! There were plenty of times where the code and loops I had to write were super complicated (like for the notes_in function) and I probably could have just left my code as is because I had enough methods but I decided to keep going and push myself. I wanted to create a code that I could theoretically use for my own music practice, so there were plenty of times that I was bored and decided to work on making new and exciting code functions. I also learned a lot, particularly about copies, because several times my code wasn't working because the loop iteration involved editing a list, and then it couldn't loop properly. Overall this assignment taught me that I really enjoy coding! Time passes really fast and I get super fixated on the details of my code."
   ]
  }
 ],
 "metadata": {
  "kernelspec": {
   "display_name": "Python 3 (ipykernel)",
   "language": "python",
   "name": "python3"
  },
  "language_info": {
   "codemirror_mode": {
    "name": "ipython",
    "version": 3
   },
   "file_extension": ".py",
   "mimetype": "text/x-python",
   "name": "python",
   "nbconvert_exporter": "python",
   "pygments_lexer": "ipython3",
   "version": "3.9.5"
  }
 },
 "nbformat": 4,
 "nbformat_minor": 2
}
